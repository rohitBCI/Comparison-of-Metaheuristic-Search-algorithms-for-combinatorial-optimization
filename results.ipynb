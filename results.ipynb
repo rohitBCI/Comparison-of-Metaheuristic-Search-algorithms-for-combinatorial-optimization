{
 "cells": [
  {
   "cell_type": "code",
   "execution_count": 1,
   "id": "contemporary-extent",
   "metadata": {},
   "outputs": [],
   "source": [
    "from numpy.random import seed\n",
    "from numpy.random import randn\n",
    "# Mann-Whitney U test\n",
    "from scipy.stats import mannwhitneyu\n",
    "import pandas as pd"
   ]
  },
  {
   "cell_type": "code",
   "execution_count": 24,
   "id": "applied-pointer",
   "metadata": {},
   "outputs": [],
   "source": [
    "data_FM = pd.read_csv('FM_baseline_linear_time.csv')\n",
    "data_MLS = pd.read_csv('MLS_final.csv')\n",
    "data_ILS01 = pd.read_csv('ILS_0.01_final.csv')\n",
    "data_ILS02 = pd.read_csv('ILS_0.02_final.csv')\n",
    "data_ILS03 = pd.read_csv('ILS_0.03_final.csv')\n",
    "data_ILS05 = pd.read_csv('ILS_0.05_final.csv')\n",
    "data_ILS07 = pd.read_csv('ILS_0.07_final.csv')\n",
    "data_ILS09 = pd.read_csv('ILS_0.09_final.csv')\n",
    "data_GLS = pd.read_csv('GLS_final.csv')\n",
    "#data_GLS_ILS = pd.read_csv('GLS_ILS_final.csv')"
   ]
  },
  {
   "cell_type": "code",
   "execution_count": 25,
   "id": "monthly-reservoir",
   "metadata": {},
   "outputs": [],
   "source": [
    "data_MLS_local_optima = data_MLS.values[:,0]\n",
    "data_FM_local_optima = data_FM.values[:,0]\n",
    "data_ILS01_local_optima = data_ILS01.values[:,0]\n",
    "data_ILS02_local_optima = data_ILS02.values[:,0]\n",
    "data_ILS03_local_optima = data_ILS03.values[:,0]\n",
    "data_ILS05_local_optima = data_ILS05.values[:,0]\n",
    "data_ILS07_local_optima = data_ILS07.values[:,0]\n",
    "data_ILS09_local_optima = data_ILS09.values[:,0]"
   ]
  },
  {
   "cell_type": "code",
   "execution_count": 64,
   "id": "noted-meter",
   "metadata": {},
   "outputs": [
    {
     "data": {
      "text/plain": [
       "Converged local optima       9.000000\n",
       "Num_local_optima          2196.000000\n",
       "Time(s)                   8000.525469\n",
       "dtype: float64"
      ]
     },
     "execution_count": 64,
     "metadata": {},
     "output_type": "execute_result"
    }
   ],
   "source": [
    "data_MLS.median()"
   ]
  },
  {
   "cell_type": "code",
   "execution_count": 65,
   "id": "plastic-publicity",
   "metadata": {},
   "outputs": [
    {
     "data": {
      "text/plain": [
       "Converged local optima       8.00000\n",
       "Num_roa                     45.00000\n",
       "Num_local_optima          2353.00000\n",
       "Time(s)                   7060.35005\n",
       "dtype: float64"
      ]
     },
     "execution_count": 65,
     "metadata": {},
     "output_type": "execute_result"
    }
   ],
   "source": [
    "data_ILS01.median()"
   ]
  },
  {
   "cell_type": "code",
   "execution_count": 66,
   "id": "preliminary-paste",
   "metadata": {},
   "outputs": [
    {
     "data": {
      "text/plain": [
       "Converged local optima       8.00000\n",
       "Num_roa                     13.00000\n",
       "Num_local_optima          2254.00000\n",
       "Time(s)                   1243.11779\n",
       "dtype: float64"
      ]
     },
     "execution_count": 66,
     "metadata": {},
     "output_type": "execute_result"
    }
   ],
   "source": [
    "data_ILS03.median()"
   ]
  },
  {
   "cell_type": "code",
   "execution_count": 67,
   "id": "satisfied-collins",
   "metadata": {},
   "outputs": [
    {
     "data": {
      "text/plain": [
       "Converged local optima       9.000000\n",
       "Num_roa                     10.000000\n",
       "Num_local_optima          2233.000000\n",
       "Time(s)                   7034.015835\n",
       "dtype: float64"
      ]
     },
     "execution_count": 67,
     "metadata": {},
     "output_type": "execute_result"
    }
   ],
   "source": [
    "data_ILS05.median()"
   ]
  },
  {
   "cell_type": "code",
   "execution_count": 68,
   "id": "stainless-passing",
   "metadata": {},
   "outputs": [
    {
     "data": {
      "text/plain": [
       "Converged local optima       8.000000\n",
       "Num_roa                      7.000000\n",
       "Num_local_optima          2233.000000\n",
       "Time(s)                   7799.229517\n",
       "dtype: float64"
      ]
     },
     "execution_count": 68,
     "metadata": {},
     "output_type": "execute_result"
    }
   ],
   "source": [
    "data_ILS07.median()"
   ]
  },
  {
   "cell_type": "code",
   "execution_count": 69,
   "id": "marked-shoot",
   "metadata": {},
   "outputs": [
    {
     "data": {
      "text/plain": [
       "Converged local optima      10.000000\n",
       "Num_roa                      7.000000\n",
       "Num_local_optima          2231.000000\n",
       "Time(s)                   4563.310332\n",
       "dtype: float64"
      ]
     },
     "execution_count": 69,
     "metadata": {},
     "output_type": "execute_result"
    }
   ],
   "source": [
    "data_ILS09.median()"
   ]
  },
  {
   "cell_type": "code",
   "execution_count": 75,
   "id": "complex-henry",
   "metadata": {},
   "outputs": [
    {
     "name": "stdout",
     "output_type": "stream",
     "text": [
      "Statistics=6.000, p=0.099\n",
      "Same distribution (fail to reject H0)\n"
     ]
    }
   ],
   "source": [
    "# compare samples\n",
    "stat, p = mannwhitneyu(data_ILS01_local_optima,data_MLS_local_optima)\n",
    "print('Statistics=%.3f, p=%.3f' % (stat, p))\n",
    "# interpret\n",
    "alpha = 0.05\n",
    "if p > alpha:\n",
    "    print('Same distribution (fail to reject H0)')\n",
    "else:\n",
    "    print('Different distribution (reject H0)')"
   ]
  },
  {
   "cell_type": "code",
   "execution_count": 27,
   "id": "egyptian-philip",
   "metadata": {},
   "outputs": [
    {
     "data": {
      "image/png": "[encoded data removed]",
      "text/plain": [
       "<Figure size 504x288 with 1 Axes>"
      ]
     },
     "metadata": {
      "needs_background": "light"
     },
     "output_type": "display_data"
    }
   ],
   "source": [
    "# Import libraries\n",
    "import matplotlib.pyplot as plt\n",
    "import numpy as np\n",
    "  \n",
    "data = [data_MLS_local_optima,data_ILS01_local_optima, data_ILS02_local_optima, data_ILS03_local_optima]\n",
    "  \n",
    "fig = plt.figure(figsize =(7, 4))\n",
    "  \n",
    "# Creating axes instance\n",
    "ax = fig.add_axes([0, 0, 1, 1])\n",
    "  \n",
    "# Creating plot\n",
    "bp = ax.boxplot(data)\n",
    "plt.xticks([1, 2, 3, 4], ['MLS', 'ILS01', 'ILS02','ILS03'])  \n",
    "# show plot\n",
    "plt.show()"
   ]
  },
  {
   "cell_type": "code",
   "execution_count": null,
   "id": "infectious-princeton",
   "metadata": {},
   "outputs": [],
   "source": []
  }
 ],
 "metadata": {
  "kernelspec": {
   "display_name": "Python 3",
   "language": "python",
   "name": "python3"
  },
  "language_info": {
   "codemirror_mode": {
    "name": "ipython",
    "version": 3
   },
   "file_extension": ".py",
   "mimetype": "text/x-python",
   "name": "python",
   "nbconvert_exporter": "python",
   "pygments_lexer": "ipython3",
   "version": "3.7.9"
  }
 },
 "nbformat": 4,
 "nbformat_minor": 5
}
