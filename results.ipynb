{
 "cells": [
  {
   "cell_type": "code",
   "execution_count": 52,
   "id": "contemporary-extent",
   "metadata": {},
   "outputs": [],
   "source": [
    "from numpy.random import seed\n",
    "from numpy.random import randn\n",
    "# Mann-Whitney U test\n",
    "from scipy.stats import mannwhitneyu\n",
    "import pandas as pd"
   ]
  },
  {
   "cell_type": "code",
   "execution_count": 53,
   "id": "applied-pointer",
   "metadata": {},
   "outputs": [],
   "source": [
    "#data_FM = pd.read_csv('FM_baseline_linear_time.csv')\n",
    "data_MLS = pd.read_csv('MLS_final.csv')\n",
    "data_ILS01 = pd.read_csv('ILS_0.01_final.csv')\n",
    "data_ILS02 = pd.read_csv('ILS_0.02_final.csv')\n",
    "data_ILS03 = pd.read_csv('ILS_0.03_final.csv')\n",
    "data_ILS05 = pd.read_csv('ILS_0.05_final.csv')\n",
    "#data_ILS07 = pd.read_csv('ILS_0.07_final.csv')\n",
    "#data_ILS09 = pd.read_csv('ILS_0.09_final.csv')\n",
    "data_GLS_normal = pd.read_csv('GLS_normal_final.csv')\n",
    "data_GLS_no_duplicate = pd.read_csv('GLS_no_duplicate_final.csv')\n",
    "data_same_run_time = pd.read_csv('same_run_time.csv')"
   ]
  },
  {
   "cell_type": "code",
   "execution_count": 54,
   "id": "monthly-reservoir",
   "metadata": {},
   "outputs": [],
   "source": [
    "data_MLS_local_optima = data_MLS.values[:,0]\n",
    "data_FM_local_optima = data_FM.values[:,0]\n",
    "data_ILS01_local_optima = data_ILS01.values[:,0]\n",
    "data_ILS02_local_optima = data_ILS02.values[:,0]\n",
    "data_ILS03_local_optima = data_ILS03.values[:,0]\n",
    "data_ILS05_local_optima = data_ILS05.values[:,0]\n",
    "data_GLS_normal_local_optima = data_GLS_normal.values[:,0]\n",
    "data_GLS_no_duplicate_local_optima = data_GLS_no_duplicate.values[:,0]\n",
    "data_same_run_time__MLS_local_optima = data_same_run_time.values[:,0]\n",
    "data_same_run_time__ILS_local_optima = data_same_run_time.values[:,1]\n",
    "data_same_run_time__GLS_local_optima = data_same_run_time.values[:,2]\n",
    "data_same_run_time__GLSND_local_optima = data_same_run_time.values[:,3]"
   ]
  },
  {
   "cell_type": "code",
   "execution_count": 42,
   "id": "noted-meter",
   "metadata": {},
   "outputs": [
    {
     "data": {
      "text/plain": [
       "Converged local optima       8.000\n",
       "Num_local_optima          2195.500\n",
       "Time(s)                     15.947\n",
       "dtype: float64"
      ]
     },
     "execution_count": 42,
     "metadata": {},
     "output_type": "execute_result"
    }
   ],
   "source": [
    "data_MLS.median()"
   ]
  },
  {
   "cell_type": "code",
   "execution_count": 43,
   "id": "plastic-publicity",
   "metadata": {},
   "outputs": [
    {
     "data": {
      "text/plain": [
       "Converged local optima       6.000\n",
       "Num_roa                     73.000\n",
       "Num_local_optima          2303.500\n",
       "Time(s)                     11.445\n",
       "dtype: float64"
      ]
     },
     "execution_count": 43,
     "metadata": {},
     "output_type": "execute_result"
    }
   ],
   "source": [
    "data_ILS01.median()"
   ]
  },
  {
   "cell_type": "code",
   "execution_count": 44,
   "id": "measured-dating",
   "metadata": {},
   "outputs": [
    {
     "data": {
      "text/plain": [
       "Converged local optima       9.0000\n",
       "Num_roa                     37.0000\n",
       "Num_local_optima          2252.0000\n",
       "Time(s)                     16.5745\n",
       "dtype: float64"
      ]
     },
     "execution_count": 44,
     "metadata": {},
     "output_type": "execute_result"
    }
   ],
   "source": [
    "data_ILS02.median()"
   ]
  },
  {
   "cell_type": "code",
   "execution_count": 45,
   "id": "preliminary-paste",
   "metadata": {},
   "outputs": [
    {
     "data": {
      "text/plain": [
       "Converged local optima       8.000\n",
       "Num_roa                     17.000\n",
       "Num_local_optima          2243.000\n",
       "Time(s)                     13.886\n",
       "dtype: float64"
      ]
     },
     "execution_count": 45,
     "metadata": {},
     "output_type": "execute_result"
    }
   ],
   "source": [
    "data_ILS03.median()"
   ]
  },
  {
   "cell_type": "code",
   "execution_count": 46,
   "id": "satisfied-collins",
   "metadata": {},
   "outputs": [
    {
     "data": {
      "text/plain": [
       "Converged local optima       8.5000\n",
       "Num_roa                     10.5000\n",
       "Num_local_optima          2235.5000\n",
       "Time(s)                      9.3485\n",
       "dtype: float64"
      ]
     },
     "execution_count": 46,
     "metadata": {},
     "output_type": "execute_result"
    }
   ],
   "source": [
    "data_ILS05.median()"
   ]
  },
  {
   "cell_type": "code",
   "execution_count": 47,
   "id": "native-falls",
   "metadata": {},
   "outputs": [
    {
     "data": {
      "text/plain": [
       "Converged local optima     5.0000\n",
       "Time(s)                   30.8215\n",
       "dtype: float64"
      ]
     },
     "execution_count": 47,
     "metadata": {},
     "output_type": "execute_result"
    }
   ],
   "source": [
    "data_GLS_normal.median()"
   ]
  },
  {
   "cell_type": "code",
   "execution_count": 48,
   "id": "labeled-provision",
   "metadata": {},
   "outputs": [
    {
     "data": {
      "text/plain": [
       "Converged local optima     4.00\n",
       "Time(s)                   30.99\n",
       "dtype: float64"
      ]
     },
     "execution_count": 48,
     "metadata": {},
     "output_type": "execute_result"
    }
   ],
   "source": [
    "data_GLS_no_duplicate.median()"
   ]
  },
  {
   "cell_type": "code",
   "execution_count": 49,
   "id": "numerous-intelligence",
   "metadata": {},
   "outputs": [
    {
     "data": {
      "text/plain": [
       "MLS                 7.0\n",
       "ILS                 5.5\n",
       "GLS                 5.0\n",
       "GLS_no_duplicate    4.5\n",
       "dtype: float64"
      ]
     },
     "execution_count": 49,
     "metadata": {},
     "output_type": "execute_result"
    }
   ],
   "source": [
    "data_same_run_time.median()"
   ]
  },
  {
   "cell_type": "code",
   "execution_count": 88,
   "id": "complex-henry",
   "metadata": {},
   "outputs": [
    {
     "name": "stdout",
     "output_type": "stream",
     "text": [
      "Statistics=44.000, p=0.337\n",
      "Same distribution (fail to reject H0)\n"
     ]
    }
   ],
   "source": [
    "# compare samples\n",
    "stat, p = mannwhitneyu(data_MLS_local_optima,data_ILS02_local_optima)\n",
    "print('Statistics=%.3f, p=%.3f' % (stat, p))\n",
    "# interpret\n",
    "alpha = 0.05\n",
    "if p > alpha:\n",
    "    print('Same distribution (fail to reject H0)')\n",
    "else:\n",
    "    print('Different distribution (reject H0)')"
   ]
  },
  {
   "cell_type": "code",
   "execution_count": 69,
   "id": "egyptian-philip",
   "metadata": {},
   "outputs": [
    {
     "data": {
      "image/png": "[encoded data removed]",
      "text/plain": [
       "<Figure size 504x288 with 1 Axes>"
      ]
     },
     "metadata": {
      "needs_background": "light"
     },
     "output_type": "display_data"
    }
   ],
   "source": [
    "# Import libraries\n",
    "import matplotlib.pyplot as plt\n",
    "import numpy as np\n",
    "  \n",
    "data = [data_MLS_local_optima,data_ILS01_local_optima, data_ILS02_local_optima, data_ILS03_local_optima,data_ILS05_local_optima, data_GLS_normal_local_optima,data_GLS_no_duplicate_local_optima ]\n",
    "  \n",
    "fig = plt.figure(figsize =(7, 4))\n",
    "  \n",
    "# Creating axes instance\n",
    "ax = fig.add_axes([0, 0, 1, 1])\n",
    "  \n",
    "# Creating plot\n",
    "bp = ax.boxplot(data)\n",
    "plt.xticks([1, 2, 3, 4, 5, 6, 7], ['MLS', 'ILS (0.01)', 'ILS (0.02)','ILS (0.03)','ILS (0.05)', 'GLS', 'GLS (no duplicate)']) \n",
    "plt.ylabel('Converged local optimum')\n",
    "# show plot\n",
    "plt.show()"
   ]
  },
  {
   "cell_type": "code",
   "execution_count": 70,
   "id": "democratic-permit",
   "metadata": {},
   "outputs": [
    {
     "data": {
      "image/png": "[encoded data removed]",
      "text/plain": [
       "<Figure size 504x288 with 1 Axes>"
      ]
     },
     "metadata": {
      "needs_background": "light"
     },
     "output_type": "display_data"
    }
   ],
   "source": [
    "# Import libraries\n",
    "import matplotlib.pyplot as plt\n",
    "import numpy as np\n",
    "  \n",
    "data = [data_same_run_time__MLS_local_optima,data_same_run_time__ILS_local_optima, data_same_run_time__GLS_local_optima, data_same_run_time__GLSND_local_optima]\n",
    "  \n",
    "fig = plt.figure(figsize =(7, 4))\n",
    "  \n",
    "# Creating axes instance\n",
    "ax = fig.add_axes([0, 0, 1, 1])\n",
    "  \n",
    "# Creating plot\n",
    "bp = ax.boxplot(data)\n",
    "plt.xticks([1, 2, 3, 4], ['MLS', 'ILS (0.01)', 'GLS', 'GLS(no duplicate)']) \n",
    "plt.ylabel('Converged local optimum')\n",
    "# show plot\n",
    "plt.show()"
   ]
  },
  {
   "cell_type": "code",
   "execution_count": null,
   "id": "breeding-title",
   "metadata": {},
   "outputs": [],
   "source": []
  }
 ],
 "metadata": {
  "kernelspec": {
   "display_name": "Python 3",
   "language": "python",
   "name": "python3"
  },
  "language_info": {
   "codemirror_mode": {
    "name": "ipython",
    "version": 3
   },
   "file_extension": ".py",
   "mimetype": "text/x-python",
   "name": "python",
   "nbconvert_exporter": "python",
   "pygments_lexer": "ipython3",
   "version": "3.7.9"
  }
 },
 "nbformat": 4,
 "nbformat_minor": 5
}
