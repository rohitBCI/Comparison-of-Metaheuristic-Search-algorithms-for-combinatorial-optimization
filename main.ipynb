{
 "cells": [
  {
   "cell_type": "code",
   "execution_count": 4,
   "id": "instrumental-temple",
   "metadata": {},
   "outputs": [],
   "source": [
    "import numpy as np\n",
    "import random\n",
    "import time\n",
    "import pandas as pd\n",
    "import operator\n",
    "from collections import defaultdict\n",
    "np.set_printoptions(suppress=True)"
   ]
  },
  {
   "cell_type": "code",
   "execution_count": 112,
   "id": "alone-frontier",
   "metadata": {},
   "outputs": [],
   "source": [
    "#[int(i) for i in split_line[3:]]\n",
    "# Loading the single planar graph of 500 vertices\n",
    "data = defaultdict(list)\n",
    "for line in open(\"Graph500.txt\"):\n",
    "    split_line=line.split()\n",
    "    ID_vertex = split_line[0]\n",
    "    num_connected_vertices  = split_line[2]\n",
    "    ID_connected_vertices = split_line[3:]\n",
    "    if (ID_vertex) not in data.keys():\n",
    "        data[ID_vertex].append(int(num_connected_vertices))\n",
    "        data[ID_vertex].append(ID_connected_vertices)\n",
    "df = pd.DataFrame(data.values(),columns = ['Number of connected vertices','ID connected vertices'])"
   ]
  },
  {
   "cell_type": "code",
   "execution_count": 119,
   "id": "meaning-kansas",
   "metadata": {},
   "outputs": [
    {
     "data": {
      "text/plain": [
       "['28', '102', '162', '233', '360', '393', '460', '500']"
      ]
     },
     "execution_count": 119,
     "metadata": {},
     "output_type": "execute_result"
    }
   ],
   "source": [
    "df.iloc[0][1]"
   ]
  },
  {
   "cell_type": "code",
   "execution_count": 126,
   "id": "defined-comment",
   "metadata": {},
   "outputs": [
    {
     "data": {
      "text/plain": [
       "1"
      ]
     },
     "execution_count": 126,
     "metadata": {},
     "output_type": "execute_result"
    }
   ],
   "source": [
    "df.index[1]"
   ]
  },
  {
   "cell_type": "code",
   "execution_count": null,
   "id": "ready-standard",
   "metadata": {},
   "outputs": [],
   "source": []
  }
 ],
 "metadata": {
  "kernelspec": {
   "display_name": "Python 3",
   "language": "python",
   "name": "python3"
  },
  "language_info": {
   "codemirror_mode": {
    "name": "ipython",
    "version": 3
   },
   "file_extension": ".py",
   "mimetype": "text/x-python",
   "name": "python",
   "nbconvert_exporter": "python",
   "pygments_lexer": "ipython3",
   "version": "3.7.9"
  }
 },
 "nbformat": 4,
 "nbformat_minor": 5
}
