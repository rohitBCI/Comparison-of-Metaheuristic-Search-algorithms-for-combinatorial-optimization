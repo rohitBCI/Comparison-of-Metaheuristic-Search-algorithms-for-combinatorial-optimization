{
 "cells": [
  {
   "cell_type": "code",
   "execution_count": 8,
   "id": "instrumental-temple",
   "metadata": {},
   "outputs": [],
   "source": [
    "import numpy as np\n",
    "import random\n",
    "import time\n",
    "import pandas as pd\n",
    "import operator\n",
    "from collections import defaultdict\n",
    "np.set_printoptions(suppress=True)\n",
    "import matplotlib.pyplot as plt\n",
    "import networkx as nx"
   ]
  },
  {
   "cell_type": "code",
   "execution_count": 9,
   "id": "concerned-mobility",
   "metadata": {},
   "outputs": [],
   "source": [
    "class Node(object):\n",
    "    # Singly linked node\n",
    "    def __init__(self, value=None, next=None, prev=None):\n",
    "        self.value = value\n",
    "        self.next = next\n",
    "        self.prev = prev\n",
    "\n",
    "class doubly_linked_list(object):\n",
    "    def __init__(self):\n",
    "        self.head = None\n",
    "        self.tail = None\n",
    "        self.count = 0\n",
    "\n",
    "    def append_item(self, value):\n",
    "        # Append an item \n",
    "        new_item = Node(value, None, None)\n",
    "        if self.head is None:\n",
    "            self.head = new_item\n",
    "            self.tail = self.head\n",
    "        else:\n",
    "            new_item.prev = self.tail\n",
    "            self.tail.next = new_item\n",
    "            self.tail = new_item\n",
    "        self.count += 1\n",
    "    \n",
    "    def iter(self):\n",
    "        # Iterate the list\n",
    "        current = self.head\n",
    "        while current:\n",
    "            item_val = current.value\n",
    "            current = current.next\n",
    "            yield item_val\n",
    "\n",
    "    def print_foward(self):\n",
    "        for node in self.iter():\n",
    "            print(node)   \n",
    "        \n",
    "    def search_item(self, val):\n",
    "         for node in self.iter():\n",
    "            if val == node:\n",
    "                return True\n",
    "            return False\n",
    "     \n",
    "    def delete(self, value):\n",
    "        # Delete a specific item\n",
    "        current = self.head\n",
    "        node_deleted = False\n",
    "        if current is None:\n",
    "            node_deleted = False\n",
    "\n",
    "        elif current.value == value:\n",
    "            self.head = current.next\n",
    "            self.head.prev = None\n",
    "            node_deleted = True\n",
    "\n",
    "        elif self.tail.value == value:\n",
    "            self.tail = self.tail.prev\n",
    "            self.tail.next = None\n",
    "            node_deleted = True\n",
    "\n",
    "        else:\n",
    "            while current:\n",
    "                if current.value == value:\n",
    "                    current.prev.next = current.next\n",
    "                    current.next.prev = current.prev\n",
    "                    node_deleted = True\n",
    "                current = current.next\n",
    "\n",
    "        if node_deleted:\n",
    "            self.count -= 1"
   ]
  },
  {
   "cell_type": "code",
   "execution_count": 10,
   "id": "alone-frontier",
   "metadata": {},
   "outputs": [],
   "source": [
    "# Loading the single planar graph of 500 vertices\n",
    "data = defaultdict(list)\n",
    "for line in open(\"Graph500.txt\"):\n",
    "    split_line=line.split()\n",
    "    ID_vertex = split_line[0]\n",
    "    num_connected_vertices  = split_line[2]\n",
    "    ID_connected_vertices = split_line[3:]\n",
    "    if (ID_vertex) not in data.keys():\n",
    "        data[ID_vertex].append(int(num_connected_vertices))\n",
    "        data[ID_vertex].append(ID_connected_vertices)\n",
    "df = pd.DataFrame(data.values(),columns = ['Number of connected vertices','ID connected vertices'])"
   ]
  },
  {
   "cell_type": "code",
   "execution_count": 11,
   "id": "accepting-scheme",
   "metadata": {},
   "outputs": [],
   "source": [
    "max_degree = np.max(df['Number of connected vertices'])"
   ]
  },
  {
   "cell_type": "code",
   "execution_count": 12,
   "id": "living-agriculture",
   "metadata": {},
   "outputs": [],
   "source": [
    "# Create a partioning (A,B)\n",
    "num_vertices = len(df)\n",
    "vertices = np.array([i for i in range(1,num_vertices+1)])\n",
    "cut = int(0.5 * num_vertices)\n",
    "\n",
    "np.random.shuffle(vertices)\n",
    "Partition_A = vertices[:cut]\n",
    "Partition_B = vertices[cut:] "
   ]
  },
  {
   "cell_type": "code",
   "execution_count": 13,
   "id": "metallic-guyana",
   "metadata": {},
   "outputs": [],
   "source": [
    "bucket = np.array([i for i in range(-max_degree,max_degree+1)])"
   ]
  },
  {
   "cell_type": "code",
   "execution_count": 14,
   "id": "considerable-sleep",
   "metadata": {},
   "outputs": [
    {
     "data": {
      "text/plain": [
       "array([-16, -15, -14, -13, -12, -11, -10,  -9,  -8,  -7,  -6,  -5,  -4,\n",
       "        -3,  -2,  -1,   0,   1,   2,   3,   4,   5,   6,   7,   8,   9,\n",
       "        10,  11,  12,  13,  14,  15,  16])"
      ]
     },
     "execution_count": 14,
     "metadata": {},
     "output_type": "execute_result"
    }
   ],
   "source": [
    "bucket"
   ]
  },
  {
   "cell_type": "code",
   "execution_count": 16,
   "id": "collective-upgrade",
   "metadata": {},
   "outputs": [],
   "source": [
    "left_bucket = defaultdict()\n",
    "right_bucket = defaultdict()\n",
    "for i in bucket:\n",
    "    left_bucket[i] = doubly_linked_list()\n",
    "    right_bucket[i]= doubly_linked_list()"
   ]
  },
  {
   "cell_type": "code",
   "execution_count": 19,
   "id": "acceptable-christmas",
   "metadata": {},
   "outputs": [
    {
     "data": {
      "text/plain": [
       "dict_values([<__main__.doubly_linked_list object at 0x00000247D300EBC8>, <__main__.doubly_linked_list object at 0x00000247D300EC08>, <__main__.doubly_linked_list object at 0x00000247D300EC88>, <__main__.doubly_linked_list object at 0x00000247D300ECC8>, <__main__.doubly_linked_list object at 0x00000247D300ED08>, <__main__.doubly_linked_list object at 0x00000247D300ED48>, <__main__.doubly_linked_list object at 0x00000247D300ED88>, <__main__.doubly_linked_list object at 0x00000247D300EDC8>, <__main__.doubly_linked_list object at 0x00000247D300E488>, <__main__.doubly_linked_list object at 0x00000247D300E748>, <__main__.doubly_linked_list object at 0x00000247D300E788>, <__main__.doubly_linked_list object at 0x00000247D300E7C8>, <__main__.doubly_linked_list object at 0x00000247D300E808>, <__main__.doubly_linked_list object at 0x00000247D300E848>, <__main__.doubly_linked_list object at 0x00000247D300E888>, <__main__.doubly_linked_list object at 0x00000247D300E8C8>, <__main__.doubly_linked_list object at 0x00000247D300E908>, <__main__.doubly_linked_list object at 0x00000247D300E948>, <__main__.doubly_linked_list object at 0x00000247D300E988>, <__main__.doubly_linked_list object at 0x00000247D300E9C8>, <__main__.doubly_linked_list object at 0x00000247D300EA08>, <__main__.doubly_linked_list object at 0x00000247D300E308>, <__main__.doubly_linked_list object at 0x00000247D300E508>, <__main__.doubly_linked_list object at 0x00000247D300E548>, <__main__.doubly_linked_list object at 0x00000247D300E588>, <__main__.doubly_linked_list object at 0x00000247D300E5C8>, <__main__.doubly_linked_list object at 0x00000247D300E608>, <__main__.doubly_linked_list object at 0x00000247D300E1C8>, <__main__.doubly_linked_list object at 0x00000247D300E388>, <__main__.doubly_linked_list object at 0x00000247D300E3C8>, <__main__.doubly_linked_list object at 0x00000247D300E408>, <__main__.doubly_linked_list object at 0x00000247D300E248>, <__main__.doubly_linked_list object at 0x00000247D300E288>])"
      ]
     },
     "execution_count": 19,
     "metadata": {},
     "output_type": "execute_result"
    }
   ],
   "source": []
  },
  {
   "cell_type": "code",
   "execution_count": 219,
   "id": "daily-potato",
   "metadata": {},
   "outputs": [],
   "source": [
    "left_bucket[-16].append_item(1)"
   ]
  },
  {
   "cell_type": "code",
   "execution_count": 222,
   "id": "grave-flower",
   "metadata": {},
   "outputs": [
    {
     "name": "stdout",
     "output_type": "stream",
     "text": [
      "1\n"
     ]
    }
   ],
   "source": [
    "left_bucket[-16].print_foward()"
   ]
  },
  {
   "cell_type": "code",
   "execution_count": 212,
   "id": "ruled-comparative",
   "metadata": {},
   "outputs": [
    {
     "name": "stdout",
     "output_type": "stream",
     "text": [
      "Original list:\n",
      "PHP\n",
      "SQL\n",
      "\n",
      "List after deleting two items:\n",
      "C#\n",
      "C++\n"
     ]
    }
   ],
   "source": []
  },
  {
   "cell_type": "code",
   "execution_count": null,
   "id": "proper-eugene",
   "metadata": {},
   "outputs": [],
   "source": []
  }
 ],
 "metadata": {
  "kernelspec": {
   "display_name": "Python 3",
   "language": "python",
   "name": "python3"
  },
  "language_info": {
   "codemirror_mode": {
    "name": "ipython",
    "version": 3
   },
   "file_extension": ".py",
   "mimetype": "text/x-python",
   "name": "python",
   "nbconvert_exporter": "python",
   "pygments_lexer": "ipython3",
   "version": "3.7.9"
  }
 },
 "nbformat": 4,
 "nbformat_minor": 5
}
