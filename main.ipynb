{
 "cells": [
  {
   "cell_type": "code",
   "execution_count": 1,
   "id": "instrumental-temple",
   "metadata": {},
   "outputs": [],
   "source": [
    "import numpy as np\n",
    "import random\n",
    "import time\n",
    "import pandas as pd\n",
    "import operator\n",
    "from collections import defaultdict\n",
    "np.set_printoptions(suppress=True)\n",
    "import matplotlib.pyplot as plt\n",
    "import networkx as nx"
   ]
  },
  {
   "cell_type": "code",
   "execution_count": 2,
   "id": "alone-frontier",
   "metadata": {},
   "outputs": [],
   "source": [
    "#[int(i) for i in split_line[3:]]\n",
    "# Loading the single planar graph of 500 vertices\n",
    "data = defaultdict(list)\n",
    "for line in open(\"Graph500.txt\"):\n",
    "    split_line=line.split()\n",
    "    ID_vertex = split_line[0]\n",
    "    num_connected_vertices  = split_line[2]\n",
    "    ID_connected_vertices = split_line[3:]\n",
    "    if (ID_vertex) not in data.keys():\n",
    "        data[ID_vertex].append(int(num_connected_vertices))\n",
    "        data[ID_vertex].append(ID_connected_vertices)\n",
    "df = pd.DataFrame(data.values(),columns = ['Number of connected vertices','ID connected vertices'])"
   ]
  },
  {
   "cell_type": "code",
   "execution_count": 3,
   "id": "meaning-kansas",
   "metadata": {},
   "outputs": [
    {
     "data": {
      "text/html": [
       "<div>\n",
       "<style scoped>\n",
       "    .dataframe tbody tr th:only-of-type {\n",
       "        vertical-align: middle;\n",
       "    }\n",
       "\n",
       "    .dataframe tbody tr th {\n",
       "        vertical-align: top;\n",
       "    }\n",
       "\n",
       "    .dataframe thead th {\n",
       "        text-align: right;\n",
       "    }\n",
       "</style>\n",
       "<table border=\"1\" class=\"dataframe\">\n",
       "  <thead>\n",
       "    <tr style=\"text-align: right;\">\n",
       "      <th></th>\n",
       "      <th>Number of connected vertices</th>\n",
       "      <th>ID connected vertices</th>\n",
       "    </tr>\n",
       "  </thead>\n",
       "  <tbody>\n",
       "    <tr>\n",
       "      <th>0</th>\n",
       "      <td>8</td>\n",
       "      <td>[28, 102, 162, 233, 360, 393, 460, 500]</td>\n",
       "    </tr>\n",
       "    <tr>\n",
       "      <th>1</th>\n",
       "      <td>2</td>\n",
       "      <td>[79, 434]</td>\n",
       "    </tr>\n",
       "    <tr>\n",
       "      <th>2</th>\n",
       "      <td>3</td>\n",
       "      <td>[165, 209, 257]</td>\n",
       "    </tr>\n",
       "    <tr>\n",
       "      <th>3</th>\n",
       "      <td>6</td>\n",
       "      <td>[44, 202, 212, 279, 399, 441]</td>\n",
       "    </tr>\n",
       "    <tr>\n",
       "      <th>4</th>\n",
       "      <td>7</td>\n",
       "      <td>[36, 93, 95, 146, 231, 304, 450]</td>\n",
       "    </tr>\n",
       "  </tbody>\n",
       "</table>\n",
       "</div>"
      ],
      "text/plain": [
       "   Number of connected vertices                    ID connected vertices\n",
       "0                             8  [28, 102, 162, 233, 360, 393, 460, 500]\n",
       "1                             2                                [79, 434]\n",
       "2                             3                          [165, 209, 257]\n",
       "3                             6            [44, 202, 212, 279, 399, 441]\n",
       "4                             7         [36, 93, 95, 146, 231, 304, 450]"
      ]
     },
     "execution_count": 3,
     "metadata": {},
     "output_type": "execute_result"
    }
   ],
   "source": [
    "df.head()"
   ]
  },
  {
   "cell_type": "code",
   "execution_count": null,
   "id": "supported-option",
   "metadata": {},
   "outputs": [],
   "source": []
  }
 ],
 "metadata": {
  "kernelspec": {
   "display_name": "Python 3",
   "language": "python",
   "name": "python3"
  },
  "language_info": {
   "codemirror_mode": {
    "name": "ipython",
    "version": 3
   },
   "file_extension": ".py",
   "mimetype": "text/x-python",
   "name": "python",
   "nbconvert_exporter": "python",
   "pygments_lexer": "ipython3",
   "version": "3.7.9"
  }
 },
 "nbformat": 4,
 "nbformat_minor": 5
}
